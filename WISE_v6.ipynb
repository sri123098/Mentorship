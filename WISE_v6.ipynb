{
 "cells": [
  {
   "cell_type": "markdown",
   "metadata": {},
   "source": [
    "# TIC TAC TOE GAME"
   ]
  },
  {
   "cell_type": "markdown",
   "metadata": {},
   "source": [
    "You can build Graphical User Interface. \n",
    "\n",
    "But most of the GUI program needs some kind of test to be run back ground. \n",
    "\n",
    "That's why programmers have to deal with the logic and some inputs to get the output. \n"
   ]
  },
  {
   "cell_type": "markdown",
   "metadata": {},
   "source": [
    "Since we know about the lists, functions, loops. \n",
    "\n",
    "Any problem which you wish to tackle w.r.t programming, you need to divide the problem into sub problems and focus on the smaller sub problems and should eventually reach the bigger problem. \n",
    "\n",
    "Focus on the weakest link to increase the performance.\n",
    "\n",
    "Let try to build the game by using those concepts by defining certain rules for our game.\n",
    "\n",
    "\n",
    "\n",
    "Let's print something.\n",
    "\n"
   ]
  },
  {
   "cell_type": "code",
   "execution_count": 4,
   "metadata": {},
   "outputs": [
    {
     "name": "stdout",
     "output_type": "stream",
     "text": [
      " 0  1  2\n",
      "[0, 0, 0]\n",
      "[0, 0, 0]\n",
      "[0, 0, 0]\n"
     ]
    }
   ],
   "source": [
    "print(\" 0  1  2\")\n",
    "list=[[0,0,0],[0,0,0],[0,0,0]]\n",
    "for i in list:\n",
    "    print(i)"
   ]
  },
  {
   "cell_type": "code",
   "execution_count": 7,
   "metadata": {},
   "outputs": [
    {
     "name": "stdout",
     "output_type": "stream",
     "text": [
      "   0  1  2\n",
      "0 [0, 0, 0]\n",
      "1 [0, 0, 0]\n",
      "2 [0, 0, 0]\n"
     ]
    }
   ],
   "source": [
    "print(\"   0  1  2\")\n",
    "list=[[0,0,0],[0,0,0],[0,0,0]]\n",
    "count=0\n",
    "for i in list:\n",
    "    print(count,i)\n",
    "    count=count+1"
   ]
  },
  {
   "cell_type": "markdown",
   "metadata": {},
   "source": [
    "Lets define a function to print this board"
   ]
  },
  {
   "cell_type": "code",
   "execution_count": 8,
   "metadata": {},
   "outputs": [
    {
     "name": "stdout",
     "output_type": "stream",
     "text": [
      "   0  1  2\n",
      "0 [0, 0, 0]\n",
      "1 [0, 0, 0]\n",
      "2 [0, 0, 0]\n"
     ]
    }
   ],
   "source": [
    "def game_board(board):\n",
    "    print(\"   0  1  2\")\n",
    "    count=0\n",
    "    for i in board:\n",
    "        print(count,i)\n",
    "        count=count+1\n",
    "\n",
    "board=[[0,0,0],[0,0,0],[0,0,0]]\n",
    "game_board(board)\n",
    "\n",
    "'''\n",
    "0 means empty cell\n",
    "1 means player 1 move\n",
    "2 means player 2 move\n",
    "'''"
   ]
  },
  {
   "cell_type": "markdown",
   "metadata": {},
   "source": [
    "Now it has to take some inputs from the players alternately.\n"
   ]
  },
  {
   "cell_type": "code",
   "execution_count": 19,
   "metadata": {},
   "outputs": [
    {
     "name": "stdout",
     "output_type": "stream",
     "text": [
      "   0  1  2\n",
      "0 [0, 0, 0]\n",
      "1 [0, 0, 0]\n",
      "2 [0, 0, 0]\n",
      "Player 1, its your move. Please enter the row and column seperated by space\n",
      "0 0\n",
      "   0  1  2\n",
      "0 [1, 0, 0]\n",
      "1 [0, 0, 0]\n",
      "2 [0, 0, 0]\n",
      "Player 2, its your move. Please enter the row and column seperated by space\n",
      "0 1\n",
      "   0  1  2\n",
      "0 [1, 2, 0]\n",
      "1 [0, 0, 0]\n",
      "2 [0, 0, 0]\n",
      "Player 1, its your move. Please enter the row and column seperated by space\n",
      "1 0\n",
      "   0  1  2\n",
      "0 [1, 2, 0]\n",
      "1 [1, 0, 0]\n",
      "2 [0, 0, 0]\n",
      "Player 2, its your move. Please enter the row and column seperated by space\n",
      "2 1\n",
      "   0  1  2\n",
      "0 [1, 2, 0]\n",
      "1 [1, 0, 0]\n",
      "2 [0, 2, 0]\n",
      "Player 1, its your move. Please enter the row and column seperated by space\n",
      "2 0\n",
      "Game ends\n",
      "Player 1 won\n"
     ]
    }
   ],
   "source": [
    "board=[[0,0,0],[0,0,0],[0,0,0]]\n",
    "flag=True\n",
    "count=1\n",
    "total=0\n",
    "while(flag):\n",
    "    game_board(board)\n",
    "    if count==1:\n",
    "        print(\"Player 1 enter the row and column seperated by space\")\n",
    "        var=input()\n",
    "        i=int(var[0])\n",
    "        j=int(var[2])\n",
    "        board[i][j]=1\n",
    "        count=2\n",
    "    #what will happen if I'm not using if else\n",
    "    elif count==2:\n",
    "        print(\"Player 2 enter the row and column seperated by space\")\n",
    "        var=input()\n",
    "        i=int(var[0])\n",
    "        j=int(var[2])\n",
    "        board[i][j]=2\n",
    "        count=1\n",
    "    if total==9:\n",
    "        flag=False\n",
    "    total+=1\n",
    "    if check_pattern(board,2) or check_pattern(board,1):\n",
    "        print(\"Game ends\")\n",
    "        if check_pattern(board,2):\n",
    "            print(\"Player 2 won\")\n",
    "        else:\n",
    "            print(\"Player 1 won\")\n",
    "        break\n",
    "    #you need to check who won the game. write a function for this   "
   ]
  },
  {
   "cell_type": "markdown",
   "metadata": {},
   "source": [
    "# Now we need to check for the pattern. \n",
    "So, Lets see how we can write the code for this."
   ]
  },
  {
   "cell_type": "code",
   "execution_count": 18,
   "metadata": {},
   "outputs": [],
   "source": [
    "def check_pattern(board,num):\n",
    "    if board[0][0]==num and board[0][1]==num and board[0][0]==num:\n",
    "        return True  \n",
    "    elif board[0][0]==num and board[0][1]==num and board[0][2]==num:\n",
    "        return True\n",
    "    elif board[1][0]==num and board[1][1]==num and board[1][2]==num:\n",
    "        return True\n",
    "    elif board[2][0]==num and board[2][1]==num and board[2][2]==num:\n",
    "        return True\n",
    "    elif board[0][0]==num and board[1][0]==num and board[2][0]==num:\n",
    "        return True\n",
    "    elif board[0][1]==num and board[1][1]==num and board[2][1]==num:\n",
    "        return True\n",
    "    elif board[0][2]==num and board[1][2]==num and board[2][2]==num:\n",
    "        return True  \n",
    "    elif board[0][0]==num and board[1][1]==num and board[2][2]==num:\n",
    "        return True\n",
    "    elif board[0][2]==num and board[1][1]==num and board[2][0]==num:\n",
    "        return True\n",
    "    return False\n",
    "\n"
   ]
  },
  {
   "cell_type": "markdown",
   "metadata": {},
   "source": [
    "You can simplify the above code by writing the seperate functions \n",
    "\n",
    " for the row checking,\n",
    " \n",
    "        column checking, \n",
    "        \n",
    "        diagonal checking.\n",
    "        \n",
    "        \n",
    "Lets see how it can be done.\n",
    "   "
   ]
  },
  {
   "cell_type": "code",
   "execution_count": 20,
   "metadata": {},
   "outputs": [],
   "source": [
    "def row(board,num):\n",
    "    for i in range(3):\n",
    "            if board[i][0]==num and board[i][1]==num and board[i][2]==num:\n",
    "                return True\n",
    "    return False\n",
    "\n",
    "def column(board,num):\n",
    "    for j in range(3):\n",
    "            if board[0][j]==num and board[1][j]==num and board[2][j]==num:\n",
    "                return True\n",
    "    return False\n",
    "\n",
    "def diagonal(board,num):\n",
    "    return (board[0][2]==num and board[1][1]==num and board[2][0]==num) or (board[0][0]==num and board[1][1]==num and board[2][2]==num)\n",
    "\n",
    "def check_pattern2(board,num):\n",
    "    return row(board,num) or column(board,num) or diagonal(board,num)"
   ]
  },
  {
   "cell_type": "markdown",
   "metadata": {},
   "source": [
    "# What if any player enters a invalid move.\n",
    "Basically, you can tell the user. \n",
    "\n",
    "\n",
    "Pay attention to the board as it is invalid move and again ask the user for the input. "
   ]
  },
  {
   "cell_type": "code",
   "execution_count": 24,
   "metadata": {},
   "outputs": [],
   "source": [
    "def game():\n",
    "    board=[[0,0,0],[0,0,0],[0,0,0]]\n",
    "    flag=True\n",
    "    count=1\n",
    "    total=0\n",
    "    while(flag):\n",
    "        game_board(board)\n",
    "        if count==1:\n",
    "            while(True):\n",
    "                print(\"Player 1 enter the row and column seperated by space\")\n",
    "                var=input()\n",
    "                i=int(var[0])\n",
    "                j=int(var[2])\n",
    "                if board[i][j]==0:\n",
    "                    board[i][j]=1\n",
    "                    break\n",
    "            count=2\n",
    "        #what will happen if I'm not using if else\n",
    "        elif count==2:\n",
    "            while(True):\n",
    "                print(\"Player 2 enter the row and column seperated by space\")\n",
    "                var=input()\n",
    "                i=int(var[0])\n",
    "                j=int(var[2])\n",
    "                if board[i][j]==0:\n",
    "                    board[i][j]=2\n",
    "                    break\n",
    "            #This while loop will ensure that it will run forever until      \n",
    "            count=1\n",
    "\n",
    "        if check_pattern2(board,2) or check_pattern2(board,1):\n",
    "            print(\"Game ends\")\n",
    "            if check_pattern2(board,2):\n",
    "                print(\"Player 2 won\")\n",
    "            else:\n",
    "                print(\"Player 1 won\")\n",
    "            break\n",
    "        if total==9:\n",
    "            flag=False\n",
    "        total+=1"
   ]
  },
  {
   "cell_type": "code",
   "execution_count": 25,
   "metadata": {},
   "outputs": [
    {
     "name": "stdout",
     "output_type": "stream",
     "text": [
      "   0  1  2\n",
      "0 [0, 0, 0]\n",
      "1 [0, 0, 0]\n",
      "2 [0, 0, 0]\n",
      "Player 1 enter the row and column seperated by space\n",
      "0 0\n",
      "   0  1  2\n",
      "0 [1, 0, 0]\n",
      "1 [0, 0, 0]\n",
      "2 [0, 0, 0]\n",
      "Player 2 enter the row and column seperated by space\n",
      "0 1\n",
      "   0  1  2\n",
      "0 [1, 2, 0]\n",
      "1 [0, 0, 0]\n",
      "2 [0, 0, 0]\n",
      "Player 1 enter the row and column seperated by space\n",
      "0 0\n",
      "Player 1 enter the row and column seperated by space\n",
      "1 0\n",
      "   0  1  2\n",
      "0 [1, 2, 0]\n",
      "1 [1, 0, 0]\n",
      "2 [0, 0, 0]\n",
      "Player 2 enter the row and column seperated by space\n",
      "1 1\n",
      "   0  1  2\n",
      "0 [1, 2, 0]\n",
      "1 [1, 2, 0]\n",
      "2 [0, 0, 0]\n",
      "Player 1 enter the row and column seperated by space\n",
      "2 0\n",
      "Game ends\n",
      "Player 1 won\n"
     ]
    }
   ],
   "source": [
    "game()"
   ]
  },
  {
   "cell_type": "markdown",
   "metadata": {},
   "source": [
    "# What if any player enters a invalid move with Out of index operations?"
   ]
  },
  {
   "cell_type": "code",
   "execution_count": null,
   "metadata": {},
   "outputs": [],
   "source": [
    "def game():\n",
    "    board=[[0,0,0],[0,0,0],[0,0,0]]\n",
    "    flag=True\n",
    "    count=1\n",
    "    total=0\n",
    "    while(flag):\n",
    "        game_board(board)\n",
    "        if count==1:\n",
    "            while(True):\n",
    "                print(\"Player 1 enter the row and column seperated by space\")\n",
    "                var=input()\n",
    "                i=int(var[0])\n",
    "                j=int(var[2])\n",
    "                if i >=0 and i <3 and j >=0 and j <3:\n",
    "                    if board[i][j]==0:\n",
    "                        board[i][j]=1\n",
    "                        break\n",
    "            count=2\n",
    "        #what will happen if I'm not using if else\n",
    "        elif count==2:\n",
    "            while(True):\n",
    "                print(\"Player 2 enter the row and column seperated by space\")\n",
    "                var=input()\n",
    "                i=int(var[0])\n",
    "                j=int(var[2])\n",
    "                if i >=0 and i <3 and j >=0 and j <3:\n",
    "                    if board[i][j]==0:\n",
    "                        board[i][j]=2\n",
    "                        break\n",
    "            #This while loop will ensure that it will run forever until      \n",
    "            count=1\n",
    "\n",
    "        if check_pattern2(board,2) or check_pattern2(board,1):\n",
    "            print(\"Game ends\")\n",
    "            if check_pattern2(board,2):\n",
    "                print(\"Player 2 won\")\n",
    "            else:\n",
    "                print(\"Player 1 won\")\n",
    "            break\n",
    "        if total==9:\n",
    "            flag=False\n",
    "        total+=1"
   ]
  },
  {
   "cell_type": "markdown",
   "metadata": {},
   "source": [
    "# try and except blocks usage"
   ]
  },
  {
   "cell_type": "code",
   "execution_count": null,
   "metadata": {},
   "outputs": [],
   "source": [
    "Try and except blocks \n",
    "\n",
    "I need to check the bottom code."
   ]
  },
  {
   "cell_type": "code",
   "execution_count": null,
   "metadata": {},
   "outputs": [],
   "source": [
    "def game():\n",
    "    board=[[0,0,0],[0,0,0],[0,0,0]]\n",
    "    flag=True\n",
    "    count=1\n",
    "    total=0\n",
    "    while(flag):\n",
    "        game_board(board)\n",
    "        if count==1:\n",
    "            while(True):\n",
    "                print(\"Player 1 enter the row and column seperated by space\")\n",
    "                var=input()\n",
    "                i=int(var[0])\n",
    "                j=int(var[2])\n",
    "                try:\n",
    "                    if board[i][j]==0:\n",
    "                        board[i][j]=1\n",
    "                        break\n",
    "                except IndexError as e:\n",
    "                    print(\"Please enter the valid input\",e)\n",
    "            count=2\n",
    "        #what will happen if I'm not using if else\n",
    "        elif count==2:\n",
    "            while(True):\n",
    "                print(\"Player 2 enter the row and column seperated by space\")\n",
    "                var=input()\n",
    "                i=int(var[0])\n",
    "                j=int(var[2])\n",
    "                try:\n",
    "                    if board[i][j]==0:\n",
    "                        board[i][j]=2\n",
    "                        break\n",
    "                except IndexError as e:\n",
    "                    print(\"Please enter the valid input\", e)\n",
    "            #This while loop will ensure that it will run forever until      \n",
    "            count=1\n",
    "\n",
    "        if check_pattern2(board,2) or check_pattern2(board,1):\n",
    "            print(\"Game ends\")\n",
    "            if check_pattern2(board,2):\n",
    "                print(\"Player 2 won\")\n",
    "            else:\n",
    "                print(\"Player 1 won\")\n",
    "            break\n",
    "        if total==9:\n",
    "            flag=False\n",
    "        total+=1"
   ]
  },
  {
   "cell_type": "code",
   "execution_count": null,
   "metadata": {},
   "outputs": [],
   "source": [
    "We may need to tell the user the rules and what is the definition of the valid input. "
   ]
  },
  {
   "cell_type": "code",
   "execution_count": 26,
   "metadata": {},
   "outputs": [],
   "source": [
    "def game():\n",
    "    print(\"Welcome to TIC TAC TOE game.\")\n",
    "    print(\"Rules are simple.\")\n",
    "    print(\"player wins if he forms a straight line of length 3 in a 3X3 square\")\n",
    "    board=[[0,0,0],[0,0,0],[0,0,0]]\n",
    "    flag=True\n",
    "    count=1\n",
    "    total=0\n",
    "    while(flag):\n",
    "        game_board(board)\n",
    "        if count==1:\n",
    "            while(True):\n",
    "                print(\"Player 1 enter the row and column seperated by space\")\n",
    "                var=input()\n",
    "                i=int(var[0])\n",
    "                j=int(var[2])\n",
    "                try:\n",
    "                    if board[i][j]==0:\n",
    "                        board[i][j]=1\n",
    "                        break\n",
    "                except IndexError as e:\n",
    "                    print(\"Please enter the valid input\",e)\n",
    "            count=2\n",
    "        #what will happen if I'm not using if else\n",
    "        elif count==2:\n",
    "            while(True):\n",
    "                print(\"Player 2 enter the row and column seperated by space\")\n",
    "                var=input()\n",
    "                i=int(var[0])\n",
    "                j=int(var[2])\n",
    "                try:\n",
    "                    if board[i][j]==0:\n",
    "                        board[i][j]=2\n",
    "                        break\n",
    "                except IndexError as e:\n",
    "                    print(\"Please enter the valid input\", e)\n",
    "            #This while loop will ensure that it will run forever until      \n",
    "            count=1\n",
    "\n",
    "        if check_pattern2(board,2) or check_pattern2(board,1):\n",
    "            print(\"Game ends\")\n",
    "            if check_pattern2(board,2):\n",
    "                print(\"Player 2 won\")\n",
    "            else:\n",
    "                print(\"Player 1 won\")\n",
    "            break\n",
    "        if total==9:\n",
    "            flag=False\n",
    "            print(\"No one wins\")\n",
    "#         I'm keeping a count of no of moves.So that there will not be any issue. \n",
    "        total+=1"
   ]
  },
  {
   "cell_type": "code",
   "execution_count": 27,
   "metadata": {},
   "outputs": [
    {
     "name": "stdout",
     "output_type": "stream",
     "text": [
      "Welcome to TIC TAC TOE game.\n",
      "Rules are simple.\n",
      "player wins if he forms a straight line of length 3 in a 3X3 square\n",
      "   0  1  2\n",
      "0 [0, 0, 0]\n",
      "1 [0, 0, 0]\n",
      "2 [0, 0, 0]\n",
      "Player 1 enter the row and column seperated by space\n",
      "0 0\n",
      "   0  1  2\n",
      "0 [1, 0, 0]\n",
      "1 [0, 0, 0]\n",
      "2 [0, 0, 0]\n",
      "Player 2 enter the row and column seperated by space\n",
      "0 0\n",
      "Player 2 enter the row and column seperated by space\n",
      "3 0\n",
      "Please enter the valid input list index out of range\n",
      "Player 2 enter the row and column seperated by space\n",
      "0 1\n",
      "   0  1  2\n",
      "0 [1, 2, 0]\n",
      "1 [0, 0, 0]\n",
      "2 [0, 0, 0]\n",
      "Player 1 enter the row and column seperated by space\n",
      "1 1\n",
      "   0  1  2\n",
      "0 [1, 2, 0]\n",
      "1 [0, 1, 0]\n",
      "2 [0, 0, 0]\n",
      "Player 2 enter the row and column seperated by space\n",
      "1 0\n",
      "   0  1  2\n",
      "0 [1, 2, 0]\n",
      "1 [2, 1, 0]\n",
      "2 [0, 0, 0]\n",
      "Player 1 enter the row and column seperated by space\n",
      "2 2\n",
      "Game ends\n",
      "Player 1 won\n"
     ]
    }
   ],
   "source": [
    "game()"
   ]
  },
  {
   "cell_type": "code",
   "execution_count": null,
   "metadata": {},
   "outputs": [],
   "source": [
    "If you are interested in this, we can try to build similar applications later.\n"
   ]
  }
 ],
 "metadata": {
  "kernelspec": {
   "display_name": "Python 3",
   "language": "python",
   "name": "python3"
  },
  "language_info": {
   "codemirror_mode": {
    "name": "ipython",
    "version": 3
   },
   "file_extension": ".py",
   "mimetype": "text/x-python",
   "name": "python",
   "nbconvert_exporter": "python",
   "pygments_lexer": "ipython3",
   "version": "3.6.6"
  }
 },
 "nbformat": 4,
 "nbformat_minor": 2
}
