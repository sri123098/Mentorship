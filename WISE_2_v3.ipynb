{
  "nbformat": 4,
  "nbformat_minor": 0,
  "metadata": {
    "colab": {
      "name": "WISE_2_v3.ipynb",
      "version": "0.3.2",
      "provenance": [],
      "collapsed_sections": [
        "n6f73Uls_DLF",
        "XJ-o7sJ9_DLF",
        "FzoT9kBq_DLe",
        "y8-LWQ07_DLf",
        "vOIGX-BQ_DLg",
        "zP16qwVq_DLi",
        "b6o-TdcF_DLw",
        "pdLeiGmc_DL4",
        "SB1CLI-1_DL8",
        "th3VTJSZ_DL9",
        "IcmrmAZN_DL-",
        "uMVbNz1L_DMD",
        "guawLcXl_DMG"
      ]
    },
    "kernelspec": {
      "display_name": "Python 3",
      "language": "python",
      "name": "python3"
    }
  },
  "cells": [
    {
      "metadata": {
        "colab_type": "text",
        "id": "GsZi5g0h_DKU"
      },
      "cell_type": "markdown",
      "source": [
        "# Variables\n",
        "\n",
        "Variables are nothing but reserved memory locations to store values. \n",
        "This means that when you create a variable you reserve some space in memory.\n",
        "\n",
        "Based on the data type of a variable, the interpreter allocates memory and decides what can be stored in the reserved memory. \n",
        "\n",
        "\n",
        "\n",
        "\n",
        "Therefore, by assigning different data types to variables, you can store integers, decimals or characters in these variables.\n",
        "\n",
        "Assigning Values to Variables\n",
        "Python variables do not need explicit declaration to reserve memory space. The declaration happens automatically when you assign a value to a variable. The equal sign (=) is used to assign values to variables."
      ]
    },
    {
      "metadata": {
        "colab_type": "code",
        "id": "ewRMu2-0HcI3",
        "outputId": "5fff6d69-e368-4263-ba18-67ffafb7ba8b",
        "colab": {
          "base_uri": "https://localhost:8080/",
          "height": 34
        }
      },
      "cell_type": "code",
      "source": [
        "print(\"hello\")"
      ],
      "execution_count": 0,
      "outputs": [
        {
          "output_type": "stream",
          "text": [
            "hello\n"
          ],
          "name": "stdout"
        }
      ]
    },
    {
      "metadata": {
        "colab_type": "code",
        "id": "uEgp9D0iHmhg",
        "outputId": "f6792678-424c-4c69-ed09-3f5ead266e40",
        "colab": {
          "base_uri": "https://localhost:8080/",
          "height": 34
        }
      },
      "cell_type": "code",
      "source": [
        "print('hi')"
      ],
      "execution_count": 0,
      "outputs": [
        {
          "output_type": "stream",
          "text": [
            "hi\n"
          ],
          "name": "stdout"
        }
      ]
    },
    {
      "metadata": {
        "colab_type": "code",
        "id": "Y0ETDLa5_DKV",
        "colab": {}
      },
      "cell_type": "code",
      "source": [
        "# Mobile phone: It may ask you to store the snap in a particular location. \n",
        "# Similarly, the location in computer will be allocated when you define the variable\n",
        "\n",
        "#What is interpreter? \n",
        "# What ever we are defining in a program using a language is plain English with certain rules and format. \n",
        "# But computers understand only 0's and 1's.\n",
        "# "
      ],
      "execution_count": 0,
      "outputs": []
    },
    {
      "metadata": {
        "colab_type": "code",
        "id": "TtAYF9Iy_DKY",
        "outputId": "8334a4da-f984-4914-8ed2-fea56d4adf57",
        "colab": {
          "base_uri": "https://localhost:8080/",
          "height": 68
        }
      },
      "cell_type": "code",
      "source": [
        "#!/usr/bin/python\n",
        "\n",
        "counter = 100          # An integer assignment\n",
        "miles   = 1000.0       # A floating point\n",
        "name    = \"John\"       # A string\n",
        "\n",
        "print(counter)\n",
        "print(miles)\n",
        "print(name)"
      ],
      "execution_count": 0,
      "outputs": [
        {
          "output_type": "stream",
          "text": [
            "100\n",
            "1000.0\n",
            "John\n"
          ],
          "name": "stdout"
        }
      ]
    },
    {
      "metadata": {
        "colab_type": "code",
        "id": "BNzO46y__DKb",
        "outputId": "1110c706-af32-48ba-ba34-d1ce384ddde8",
        "colab": {
          "base_uri": "https://localhost:8080/",
          "height": 34
        }
      },
      "cell_type": "code",
      "source": [
        "# What is the type of variables?\n",
        "type(counter)"
      ],
      "execution_count": 0,
      "outputs": [
        {
          "output_type": "execute_result",
          "data": {
            "text/plain": [
              "int"
            ]
          },
          "metadata": {
            "tags": []
          },
          "execution_count": 6
        }
      ]
    },
    {
      "metadata": {
        "colab_type": "code",
        "id": "1D4QZy-D_DKf",
        "outputId": "81f560b9-cd13-485e-e205-581ff5394349",
        "colab": {
          "base_uri": "https://localhost:8080/",
          "height": 34
        }
      },
      "cell_type": "code",
      "source": [
        "print(\"Printing the type of counter, miles, name\", type(counter),type(miles), type(name))"
      ],
      "execution_count": 0,
      "outputs": [
        {
          "output_type": "stream",
          "text": [
            "Printing the type of counter, miles, name <class 'int'> <class 'float'> <class 'str'>\n"
          ],
          "name": "stdout"
        }
      ]
    },
    {
      "metadata": {
        "colab_type": "text",
        "id": "VtDN5Omw_DKh"
      },
      "cell_type": "markdown",
      "source": [
        "# Multiple Assignment\n"
      ]
    },
    {
      "metadata": {
        "colab_type": "code",
        "id": "n3sffr6Q_DKi",
        "colab": {}
      },
      "cell_type": "code",
      "source": [
        "a = b = c = 1"
      ],
      "execution_count": 0,
      "outputs": []
    },
    {
      "metadata": {
        "colab_type": "code",
        "id": "uWm0xmf-_DKl",
        "colab": {}
      },
      "cell_type": "code",
      "source": [
        "a=None"
      ],
      "execution_count": 0,
      "outputs": []
    },
    {
      "metadata": {
        "colab_type": "code",
        "id": "zhLO-VG4_DKn",
        "outputId": "82e48fd8-b9d7-4d1f-faa6-b68153a5e2d8",
        "colab": {
          "base_uri": "https://localhost:8080/",
          "height": 34
        }
      },
      "cell_type": "code",
      "source": [
        "type(a)"
      ],
      "execution_count": 0,
      "outputs": [
        {
          "output_type": "execute_result",
          "data": {
            "text/plain": [
              "NoneType"
            ]
          },
          "metadata": {
            "tags": []
          },
          "execution_count": 10
        }
      ]
    },
    {
      "metadata": {
        "colab_type": "code",
        "id": "WEup3Juw_DKq",
        "outputId": "e32d1284-deef-444e-fe4e-7dbbcbfd6c20",
        "colab": {
          "base_uri": "https://localhost:8080/",
          "height": 34
        }
      },
      "cell_type": "code",
      "source": [
        "type(b)"
      ],
      "execution_count": 0,
      "outputs": [
        {
          "output_type": "execute_result",
          "data": {
            "text/plain": [
              "int"
            ]
          },
          "metadata": {
            "tags": []
          },
          "execution_count": 11
        }
      ]
    },
    {
      "metadata": {
        "colab_type": "code",
        "id": "YCSWREUc_DKt",
        "colab": {}
      },
      "cell_type": "code",
      "source": [
        "c=2"
      ],
      "execution_count": 0,
      "outputs": []
    },
    {
      "metadata": {
        "colab_type": "code",
        "id": "ZLwhrx2M_DKu",
        "outputId": "efdc5b9f-f48b-4c96-8a26-ef5fac7a3898",
        "colab": {
          "base_uri": "https://localhost:8080/",
          "height": 34
        }
      },
      "cell_type": "code",
      "source": [
        "b"
      ],
      "execution_count": 0,
      "outputs": [
        {
          "output_type": "execute_result",
          "data": {
            "text/plain": [
              "1"
            ]
          },
          "metadata": {
            "tags": []
          },
          "execution_count": 13
        }
      ]
    },
    {
      "metadata": {
        "colab_type": "code",
        "id": "8HJW6gZ0_DKx",
        "colab": {}
      },
      "cell_type": "code",
      "source": [
        "a,b,c = 1,2,\"john\""
      ],
      "execution_count": 0,
      "outputs": []
    },
    {
      "metadata": {
        "colab_type": "code",
        "id": "pgV0hnLP_DKz",
        "outputId": "19e4e539-67de-43a9-a354-2afe0c34fb3e",
        "colab": {
          "base_uri": "https://localhost:8080/",
          "height": 34
        }
      },
      "cell_type": "code",
      "source": [
        "id(a)"
      ],
      "execution_count": 0,
      "outputs": [
        {
          "output_type": "execute_result",
          "data": {
            "text/plain": [
              "10964896"
            ]
          },
          "metadata": {
            "tags": []
          },
          "execution_count": 15
        }
      ]
    },
    {
      "metadata": {
        "colab_type": "code",
        "id": "T1rwgMW5_DK2",
        "outputId": "76f6b2bd-4d95-4647-f400-21c5315299fb",
        "colab": {
          "base_uri": "https://localhost:8080/",
          "height": 34
        }
      },
      "cell_type": "code",
      "source": [
        "id(b)"
      ],
      "execution_count": 0,
      "outputs": [
        {
          "output_type": "execute_result",
          "data": {
            "text/plain": [
              "10964928"
            ]
          },
          "metadata": {
            "tags": []
          },
          "execution_count": 16
        }
      ]
    },
    {
      "metadata": {
        "colab_type": "code",
        "id": "JTSGXc3j_DK6",
        "colab": {}
      },
      "cell_type": "code",
      "source": [
        "a=b=c=3"
      ],
      "execution_count": 0,
      "outputs": []
    },
    {
      "metadata": {
        "colab_type": "code",
        "id": "0vLbyqxV_DK-",
        "outputId": "ed93c5f3-307b-4b80-8f68-7120756ee870",
        "colab": {
          "base_uri": "https://localhost:8080/",
          "height": 34
        }
      },
      "cell_type": "code",
      "source": [
        "print(\"Address of a, b, c\", id(a),id(b),id(c))"
      ],
      "execution_count": 0,
      "outputs": [
        {
          "output_type": "stream",
          "text": [
            "Address of a, b, c 10964960 10964960 10964960\n"
          ],
          "name": "stdout"
        }
      ]
    },
    {
      "metadata": {
        "colab_type": "code",
        "id": "6b0Ptwtc_DLC",
        "colab": {}
      },
      "cell_type": "code",
      "source": [
        "# This means that one object/value is stored in memory only once and multiple variables can access that data."
      ],
      "execution_count": 0,
      "outputs": []
    },
    {
      "metadata": {
        "colab_type": "text",
        "id": "n6f73Uls_DLF"
      },
      "cell_type": "markdown",
      "source": [
        "# Different Data types\n",
        "\n",
        "\n",
        "\n"
      ]
    },
    {
      "metadata": {
        "colab_type": "text",
        "id": "XJ-o7sJ9_DLF"
      },
      "cell_type": "markdown",
      "source": [
        "# Python Numbers"
      ]
    },
    {
      "metadata": {
        "colab_type": "code",
        "id": "V3xYrKKE_DLG",
        "colab": {}
      },
      "cell_type": "code",
      "source": [
        "var1 = 1\n",
        "var2 = 10"
      ],
      "execution_count": 0,
      "outputs": []
    },
    {
      "metadata": {
        "colab_type": "code",
        "id": "2Iy_4n0b_DLK",
        "colab": {}
      },
      "cell_type": "code",
      "source": [
        "type(var1)"
      ],
      "execution_count": 0,
      "outputs": []
    },
    {
      "metadata": {
        "colab_type": "code",
        "id": "AKRzoewV_DLM",
        "colab": {}
      },
      "cell_type": "code",
      "source": [
        "id(var1)"
      ],
      "execution_count": 0,
      "outputs": []
    },
    {
      "metadata": {
        "colab_type": "code",
        "id": "ACxhyEFW_DLP",
        "colab": {}
      },
      "cell_type": "code",
      "source": [
        "del var1"
      ],
      "execution_count": 0,
      "outputs": []
    },
    {
      "metadata": {
        "colab_type": "code",
        "id": "TQFdOVpv_DLR",
        "colab": {}
      },
      "cell_type": "code",
      "source": [
        "type(var1)"
      ],
      "execution_count": 0,
      "outputs": []
    },
    {
      "metadata": {
        "colab_type": "code",
        "id": "5Z6Dgpdv_DLV",
        "colab": {}
      },
      "cell_type": "code",
      "source": [
        "id(var1)"
      ],
      "execution_count": 0,
      "outputs": []
    },
    {
      "metadata": {
        "colab_type": "code",
        "id": "iettyVdU_DLX",
        "colab": {}
      },
      "cell_type": "code",
      "source": [
        "#Since I have deleted the variable, I have received this error.\n",
        "# Most of the times,when ever you encounter error, dont worry.\n",
        "# Like you, there might be many people who might have encountered the same error. \n",
        "# Check on google by typing the same error.\n",
        "# https://stackoverflow.com is one of the best forums where you can get ways to fix your errors."
      ],
      "execution_count": 0,
      "outputs": []
    },
    {
      "metadata": {
        "colab_type": "code",
        "id": "OlojL9qB_DLa",
        "colab": {}
      },
      "cell_type": "code",
      "source": [
        "# Various types of numerics allowed.\n",
        "var1=3+4j\n",
        "type(var1)"
      ],
      "execution_count": 0,
      "outputs": []
    },
    {
      "metadata": {
        "colab_type": "code",
        "id": "orsCAWeG_DLb",
        "colab": {}
      },
      "cell_type": "code",
      "source": [
        "var1=3.4\n",
        "type(var1)"
      ],
      "execution_count": 0,
      "outputs": []
    },
    {
      "metadata": {
        "id": "Em4iQQX8iNk9",
        "colab_type": "text"
      },
      "cell_type": "markdown",
      "source": [
        "### "
      ]
    },
    {
      "metadata": {
        "id": "15uKhQctiNk-",
        "colab_type": "code",
        "outputId": "f40f6d54-c6f4-4af4-837e-bee1b9d87166",
        "colab": {}
      },
      "cell_type": "code",
      "source": [
        "a=3+2j\n",
        "b=2+4j\n",
        "complex(3)\n"
      ],
      "execution_count": 0,
      "outputs": [
        {
          "output_type": "execute_result",
          "data": {
            "text/plain": [
              "(3+0j)"
            ]
          },
          "metadata": {
            "tags": []
          },
          "execution_count": 7
        }
      ]
    },
    {
      "metadata": {
        "id": "_4DBNl8BiNlB",
        "colab_type": "code",
        "outputId": "59764e5b-530a-4551-c911-c2fb887860de",
        "colab": {}
      },
      "cell_type": "code",
      "source": [
        "import math\n",
        "math.floor(2.3)"
      ],
      "execution_count": 0,
      "outputs": [
        {
          "output_type": "execute_result",
          "data": {
            "text/plain": [
              "2"
            ]
          },
          "metadata": {
            "tags": []
          },
          "execution_count": 9
        }
      ]
    },
    {
      "metadata": {
        "colab_type": "text",
        "id": "FzoT9kBq_DLe"
      },
      "cell_type": "markdown",
      "source": [
        "# Python supports different numerical types −\n",
        "\n",
        "int (signed integers) − They are often called just integers or ints. They are positive or negative whole numbers with no decimal point. Integers in Python 3 are of unlimited size. Python 2 has two integer types - int and long. There is no 'long integer' in Python 3 anymore.\n",
        "\n",
        "float (floating point real values) − Also called floats, they represent real numbers and are written with a decimal point dividing the integer and the fractional parts. Floats may also be in scientific notation, with E or e indicating the power of 10 (2.5e2 = 2.5 x 102 = 250).\n",
        "\n",
        "complex (complex numbers) − are of the form a + bJ, where a and b are floats and J (or j) represents the square root of -1 (which is an imaginary number). The real part of the number is a, and the imaginary part is b. Complex numbers are not used much in Python programming."
      ]
    },
    {
      "metadata": {
        "colab_type": "text",
        "id": "y8-LWQ07_DLf"
      },
      "cell_type": "markdown",
      "source": [
        "# Number Type Conversion\n",
        "Python converts numbers internally in an expression containing mixed types to a common type for evaluation. Sometimes, you need to coerce a number explicitly from one type to another to satisfy the requirements of an operator or function parameter.\n",
        "\n",
        "Type int(x) to convert x to a plain integer.\n",
        "\n",
        "Type long(x) to convert x to a long integer.\n",
        "\n",
        "Type float(x) to convert x to a floating-point number.\n",
        "\n",
        "Type complex(x) to convert x to a complex number with real part x and imaginary part zero.\n",
        "\n",
        "Type complex(x, y) to convert x and y to a complex number with real part x and imaginary part y. x and y are numeric expressions"
      ]
    },
    {
      "metadata": {
        "colab_type": "text",
        "id": "vOIGX-BQ_DLg"
      },
      "cell_type": "markdown",
      "source": [
        "# Mathematical Function\n",
        "\n",
        "Sr.No.\tFunction & Returns ( Description )\n",
        "\n",
        "1\tabs(x)\n",
        "The absolute value of x: the (positive) distance between x and zero.\n",
        "\n",
        "2\tceil(x)\n",
        "The ceiling of x: the smallest integer not less than x.\n",
        "\n",
        "3\t\n",
        "cmp(x, y)\n",
        "\n",
        "-1 if x < y, 0 if x == y, or 1 if x > y. Deprecated in Python 3. Instead use return (x>y)-(x<y).\n",
        "\n",
        "4\texp(x)\n",
        "The exponential of x: ex\n",
        "\n",
        "5\tfabs(x)\n",
        "The absolute value of x.\n",
        "\n",
        "6\tfloor(x)\n",
        "The floor of x: the largest integer not greater than x.\n",
        "\n",
        "7\tlog(x)\n",
        "The natural logarithm of x, for x > 0.\n",
        "\n",
        "8\tlog10(x)\n",
        "The base-10 logarithm of x for x > 0.\n",
        "\n",
        "9\tmax(x1, x2,...)\n",
        "The largest of its arguments: the value closest to positive infinity\n",
        "\n",
        "10\tmin(x1, x2,...)\n",
        "The smallest of its arguments: the value closest to negative infinity.\n",
        "\n",
        "11\tmodf(x)\n",
        "The fractional and integer parts of x in a two-item tuple. Both parts have the same sign as x. The integer part is returned as a float.\n",
        "\n",
        "12\tpow(x, y)\n",
        "The value of x**y.\n",
        "\n",
        "13\tround(x [,n])\n",
        "x rounded to n digits from the decimal point. Python rounds away from zero as a tie-breaker: round(0.5) is 1.0 and round(-0.5) is -1.0.\n",
        "\n",
        "14\tsqrt(x)\n",
        "The square root of x for x > 0.\n",
        "\n",
        "\n",
        "\n"
      ]
    },
    {
      "metadata": {
        "colab_type": "code",
        "id": "RnEnwFPu_DLh",
        "colab": {}
      },
      "cell_type": "code",
      "source": [
        "#You might have come across so many mathematical functions in your science,mathematics classes."
      ],
      "execution_count": 0,
      "outputs": []
    },
    {
      "metadata": {
        "colab_type": "text",
        "id": "zP16qwVq_DLi"
      },
      "cell_type": "markdown",
      "source": [
        "# Trignometric functions\n",
        "Python includes the following functions that perform trigonometric calculations.\n",
        "\n",
        "Sr.No.\tFunction & Description\n",
        "\n",
        "1\tacos(x)\n",
        "Return the arc cosine of x, in radians.\n",
        "\n",
        "2\tasin(x)\n",
        "Return the arc sine of x, in radians.\n",
        "\n",
        "3\tatan(x)\n",
        "Return the arc tangent of x, in radians.\n",
        "\n",
        "4\tatan2(y, x)\n",
        "Return atan(y / x), in radians.\n",
        "\n",
        "5\tcos(x)\n",
        "Return the cosine of x radians.\n",
        "\n",
        "6\thypot(x, y)\n",
        "Return the Euclidean norm, sqrt(x*x + y*y).\n",
        "\n",
        "7\tsin(x)\n",
        "Return the sine of x radians.\n",
        "\n",
        "8\ttan(x)\n",
        "Return the tangent of x radians.\n",
        "\n",
        "9\tdegrees(x)\n",
        "Converts angle x from radians to degrees.\n",
        "\n",
        "10\tradians(x)\n",
        "Converts angle x from degrees to radians.\n",
        "\n",
        "Mathematical Constants\n",
        "The module also defines two mathematical constants −\n",
        "\n",
        "Sr.No.\tConstants & Description\n",
        "\n",
        "1\t\n",
        "pi\n",
        "\n",
        "The mathematical constant pi.\n",
        "\n",
        "2\t\n",
        "e\n",
        "\n",
        "The mathematical constant e."
      ]
    },
    {
      "metadata": {
        "colab_type": "code",
        "id": "mW7ovAtE_DLj",
        "outputId": "86c25120-f10e-4c98-8c1a-7f22239efaeb",
        "colab": {}
      },
      "cell_type": "code",
      "source": [
        "pow(2,3)"
      ],
      "execution_count": 0,
      "outputs": [
        {
          "output_type": "execute_result",
          "data": {
            "text/plain": [
              "8"
            ]
          },
          "metadata": {
            "tags": []
          },
          "execution_count": 10
        }
      ]
    },
    {
      "metadata": {
        "colab_type": "code",
        "id": "mO_FRhcV_DLm",
        "colab": {}
      },
      "cell_type": "code",
      "source": [
        "import math\n",
        "math.cos(math.pi)"
      ],
      "execution_count": 0,
      "outputs": []
    },
    {
      "metadata": {
        "colab_type": "code",
        "id": "IVWaEzJ8_DLn",
        "colab": {}
      },
      "cell_type": "code",
      "source": [
        "t=math.cos(math.pi/2)"
      ],
      "execution_count": 0,
      "outputs": []
    },
    {
      "metadata": {
        "id": "j5ceFex2iNlT",
        "colab_type": "code",
        "outputId": "8934865e-841b-46fa-9b25-8b880066538b",
        "colab": {}
      },
      "cell_type": "code",
      "source": [
        "print( t)\n",
        "print(\"Formating {0:.00f}\".format(t))\n",
        "# print(\"Sammy ate {0:.0f} percent of a pizza!\".format(75.765367))\n",
        "# math.cos(math.pi/2))"
      ],
      "execution_count": 0,
      "outputs": [
        {
          "output_type": "stream",
          "text": [
            "6.123233995736766e-17\n",
            "Formating 0\n"
          ],
          "name": "stdout"
        }
      ]
    },
    {
      "metadata": {
        "colab_type": "code",
        "id": "IAeAM31l_DLp",
        "colab": {}
      },
      "cell_type": "code",
      "source": [
        "type(math.cos(math.pi/2))"
      ],
      "execution_count": 0,
      "outputs": []
    },
    {
      "metadata": {
        "colab_type": "code",
        "id": "gSyfO3md_DLs",
        "outputId": "4e1e26af-862a-4fc0-d371-16dfd39272ba",
        "colab": {}
      },
      "cell_type": "code",
      "source": [
        "#What you can observe here is that instead of representing 0, python is giving the output in scientific format.\n",
        "int(math.cos(math.pi/2))"
      ],
      "execution_count": 0,
      "outputs": [
        {
          "output_type": "execute_result",
          "data": {
            "text/plain": [
              "0"
            ]
          },
          "metadata": {
            "tags": []
          },
          "execution_count": 12
        }
      ]
    },
    {
      "metadata": {
        "colab_type": "code",
        "id": "4kUQmL5s_DLu",
        "colab": {}
      },
      "cell_type": "code",
      "source": [
        "#There are so many other type of functions which are available in python. \n",
        "# Google it when you are in need. \n"
      ],
      "execution_count": 0,
      "outputs": []
    },
    {
      "metadata": {
        "id": "dY0EAUg1iNlh",
        "colab_type": "text"
      },
      "cell_type": "markdown",
      "source": [
        "import numpy as np"
      ]
    },
    {
      "metadata": {
        "id": "sFrqLH2wiNli",
        "colab_type": "code",
        "colab": {}
      },
      "cell_type": "code",
      "source": [
        "\n",
        "import numpy as np"
      ],
      "execution_count": 0,
      "outputs": []
    },
    {
      "metadata": {
        "id": "RvHHhlCkiNlk",
        "colab_type": "code",
        "colab": {}
      },
      "cell_type": "code",
      "source": [
        "# a=np.array([[2 3], [1 1]])"
      ],
      "execution_count": 0,
      "outputs": []
    },
    {
      "metadata": {
        "colab_type": "text",
        "id": "b6o-TdcF_DLw"
      },
      "cell_type": "markdown",
      "source": [
        "# Python Strings\n",
        "\n",
        "Strings are amongst the most popular types in Python.\n",
        "We can create them simply by enclosing characters in quotes. \n",
        "Python treats single quotes the same as double quotes. \n",
        "Creating strings is as simple as assigning a value to a variable."
      ]
    },
    {
      "metadata": {
        "colab_type": "code",
        "id": "ByPuHNvN_DLx",
        "colab": {}
      },
      "cell_type": "code",
      "source": [
        "var1 = 'Hello World'\n",
        "var2 = \"Python Programming\""
      ],
      "execution_count": 0,
      "outputs": []
    },
    {
      "metadata": {
        "colab_type": "code",
        "id": "RjPOC5If_DLz",
        "colab": {}
      },
      "cell_type": "code",
      "source": [
        "print(var1,var2)"
      ],
      "execution_count": 0,
      "outputs": []
    },
    {
      "metadata": {
        "colab_type": "text",
        "id": "pdLeiGmc_DL4"
      },
      "cell_type": "markdown",
      "source": [
        "# Python Indexing/Slicing operator"
      ]
    },
    {
      "metadata": {
        "colab_type": "code",
        "id": "UOOHVff9_DL5",
        "colab": {}
      },
      "cell_type": "code",
      "source": [
        "# Python indexing starts from zero. You will get familiar with that soon. \n",
        "print (\"var1[0]: \", var1[0])\n",
        "print (\"var2[1:5]: \", var2[1:5])\n",
        "#Update the strings\n",
        "var1 = 'Hello World!'\n",
        "print (\"Updated String :- \", var1[:6] + 'Python')\n",
        "#Only when we assign, the value will get stored.\n",
        "print(\"var1\",var1)\n",
        "var1=var1[:6] + 'Python'\n",
        "print(\"var1\",var1)\n"
      ],
      "execution_count": 0,
      "outputs": []
    },
    {
      "metadata": {
        "id": "ZhFDBIsbiNlv",
        "colab_type": "code",
        "colab": {}
      },
      "cell_type": "code",
      "source": [
        "a='Lincoln'"
      ],
      "execution_count": 0,
      "outputs": []
    },
    {
      "metadata": {
        "id": "jJ-YZbzOiNlz",
        "colab_type": "code",
        "outputId": "cba2077d-6472-48f8-fde2-e7c330f3e4a2",
        "colab": {}
      },
      "cell_type": "code",
      "source": [
        "print(a[0])"
      ],
      "execution_count": 0,
      "outputs": [
        {
          "output_type": "stream",
          "text": [
            "L\n"
          ],
          "name": "stdout"
        }
      ]
    },
    {
      "metadata": {
        "id": "c9qiCO1-iNl1",
        "colab_type": "code",
        "outputId": "e125b248-9620-4a97-a859-50c2b5d8bb4d",
        "colab": {}
      },
      "cell_type": "code",
      "source": [
        "print(a[2:])"
      ],
      "execution_count": 0,
      "outputs": [
        {
          "output_type": "stream",
          "text": [
            "ncoln\n"
          ],
          "name": "stdout"
        }
      ]
    },
    {
      "metadata": {
        "id": "HzsYzYxOiNl4",
        "colab_type": "code",
        "outputId": "c574cb14-3411-4ad0-c8fb-6c505b42649f",
        "colab": {}
      },
      "cell_type": "code",
      "source": [
        "print(a[:4])"
      ],
      "execution_count": 0,
      "outputs": [
        {
          "output_type": "stream",
          "text": [
            "Linc\n"
          ],
          "name": "stdout"
        }
      ]
    },
    {
      "metadata": {
        "id": "1SYaUBN7iNl7",
        "colab_type": "code",
        "outputId": "107f76b1-26ba-44c0-80a6-6982cb38f6cf",
        "colab": {}
      },
      "cell_type": "code",
      "source": [
        "'Linc'.lower()"
      ],
      "execution_count": 0,
      "outputs": [
        {
          "output_type": "execute_result",
          "data": {
            "text/plain": [
              "'linc'"
            ]
          },
          "metadata": {
            "tags": []
          },
          "execution_count": 31
        }
      ]
    },
    {
      "metadata": {
        "id": "xGfV1W0OiNl-",
        "colab_type": "code",
        "outputId": "6be4b61c-88e8-4333-f793-71fc48493bd5",
        "colab": {}
      },
      "cell_type": "code",
      "source": [
        "s='Linc'\n",
        "s.upper()"
      ],
      "execution_count": 0,
      "outputs": [
        {
          "output_type": "execute_result",
          "data": {
            "text/plain": [
              "'LINC'"
            ]
          },
          "metadata": {
            "tags": []
          },
          "execution_count": 33
        }
      ]
    },
    {
      "metadata": {
        "colab_type": "text",
        "id": "SB1CLI-1_DL8"
      },
      "cell_type": "markdown",
      "source": [
        "# String functions\n",
        "Sr.No.\tMethods & Description\n",
        "\n",
        "1\tcapitalize()\n",
        "Capitalizes first letter of string\n",
        "\n",
        "2\tcenter(width, fillchar)\n",
        "Returns a string padded with fillchar with the original string centered to a total of width columns.\n",
        "\n",
        "3\tcount(str, beg = 0,end = len(string))\n",
        "Counts how many times str occurs in string or in a substring of string if starting index beg and ending index end are given.\n",
        "\n",
        "4\tdecode(encoding = 'UTF-8',errors = 'strict')\n",
        "Decodes the string using the codec registered for encoding. encoding defaults to the default string encoding.\n",
        "\n",
        "5\tencode(encoding = 'UTF-8',errors = 'strict')\n",
        "Returns encoded string version of string; on error, default is to raise a ValueError unless errors is given with 'ignore' or 'replace'.\n",
        "\n",
        "6\tendswith(suffix, beg = 0, end = len(string))\n",
        "Determines if string or a substring of string (if starting index beg and ending index end are given) ends with suffix; returns true if so and false otherwise.\n",
        "\n",
        "7\texpandtabs(tabsize = 8)\n",
        "Expands tabs in string to multiple spaces; defaults to 8 spaces per tab if tabsize not provided.\n",
        "\n",
        "8\tfind(str, beg = 0 end = len(string))\n",
        "Determine if str occurs in string or in a substring of string if starting index beg and ending index end are given returns index if found and -1 otherwise.\n",
        "\n",
        "9\tindex(str, beg = 0, end = len(string))\n",
        "Same as find(), but raises an exception if str not found.\n",
        "\n",
        "10\tisalnum()\n",
        "Returns true if string has at least 1 character and all characters are alphanumeric and false otherwise.\n",
        "\n",
        "11\tisalpha()\n",
        "Returns true if string has at least 1 character and all characters are alphabetic and false otherwise.\n",
        "\n",
        "12\tisdigit()\n",
        "Returns true if string contains only digits and false otherwise.\n",
        "\n",
        "13\tislower()\n",
        "Returns true if string has at least 1 cased character and all cased characters are in lowercase and false otherwise.\n",
        "\n",
        "14\tisnumeric()\n",
        "Returns true if a unicode string contains only numeric characters and false otherwise.\n",
        "\n",
        "15\tisspace()\n",
        "Returns true if string contains only whitespace characters and false otherwise.\n",
        "\n",
        "16\tistitle()\n",
        "Returns true if string is properly \"titlecased\" and false otherwise.\n",
        "\n",
        "17\tisupper()\n",
        "Returns true if string has at least one cased character and all cased characters are in uppercase and false otherwise.\n",
        "\n",
        "18\tjoin(seq)\n",
        "Merges (concatenates) the string representations of elements in sequence seq into a string, with separator string.\n",
        "\n",
        "19\tlen(string)\n",
        "Returns the length of the string\n",
        "\n",
        "20\tljust(width[, fillchar])\n",
        "Returns a space-padded string with the original string left-justified to a total of width columns.\n",
        "\n",
        "21\tlower()\n",
        "Converts all uppercase letters in string to lowercase.\n",
        "\n",
        "22\tlstrip()\n",
        "Removes all leading whitespace in string.\n",
        "\n",
        "23\tmaketrans()\n",
        "Returns a translation table to be used in translate function.\n",
        "\n",
        "24\tmax(str)\n",
        "Returns the max alphabetical character from the string str.\n",
        "\n",
        "25\tmin(str)\n",
        "Returns the min alphabetical character from the string str.\n",
        "\n",
        "26\treplace(old, new [, max])\n",
        "Replaces all occurrences of old in string with new or at most max occurrences if max given.\n",
        "\n",
        "27\trfind(str, beg = 0,end = len(string))\n",
        "Same as find(), but search backwards in string.\n",
        "\n",
        "28\trindex( str, beg = 0, end = len(string))\n",
        "Same as index(), but search backwards in string.\n",
        "\n",
        "29\trjust(width,[, fillchar])\n",
        "Returns a space-padded string with the original string right-justified to a total of width columns.\n",
        "\n",
        "30\trstrip()\n",
        "Removes all trailing whitespace of string.\n",
        "\n",
        "31\tsplit(str=\"\", num=string.count(str))\n",
        "Splits string according to delimiter str (space if not provided) and returns list of substrings; split into at most num substrings if given.\n",
        "\n",
        "32\tsplitlines( num=string.count('\\n'))\n",
        "Splits string at all (or num) NEWLINEs and returns a list of each line with NEWLINEs removed.\n",
        "\n",
        "33\tstartswith(str, beg=0,end=len(string))\n",
        "Determines if string or a substring of string (if starting index beg and ending index end are given) starts with substring str; returns true if so and false otherwise.\n",
        "\n",
        "34\tstrip([chars])\n",
        "Performs both lstrip() and rstrip() on string\n",
        "\n",
        "35\tswapcase()\n",
        "Inverts case for all letters in string.\n",
        "\n",
        "36\ttitle()\n",
        "Returns \"titlecased\" version of string, that is, all words begin with uppercase and the rest are lowercase.\n",
        "\n",
        "37\ttranslate(table, deletechars=\"\")\n",
        "Translates string according to translation table str(256 chars), removing those in the del string.\n",
        "\n",
        "38\tupper()\n",
        "Converts lowercase letters in string to uppercase.\n",
        "\n",
        "39\tzfill (width)\n",
        "Returns original string leftpadded with zeros to a total of width characters; intended for numbers, zfill() retains any sign given (less one zero).\n",
        "\n",
        "40\tisdecimal()\n",
        "Returns true if a unicode string contains only decimal characters and false otherwise."
      ]
    },
    {
      "metadata": {
        "colab_type": "text",
        "id": "th3VTJSZ_DL9"
      },
      "cell_type": "markdown",
      "source": [
        "# Loops\n",
        "\n",
        "\n",
        "The first statement in a function is executed first, followed by the second, and so on. There may be a situation when you need to execute a block of code several number of times.\n",
        "\n",
        "Programming languages provide various control structures that allow more complicated execution paths.\n",
        "\n",
        "A loop statement allows us to execute a statement or group of statements multiple times. The following diagram illustrates a loop statement."
      ]
    },
    {
      "metadata": {
        "colab_type": "text",
        "id": "IcmrmAZN_DL-"
      },
      "cell_type": "markdown",
      "source": [
        "# Loop to count the numbers from 1 to n"
      ]
    },
    {
      "metadata": {
        "colab_type": "code",
        "id": "p_0dSJvF_DL_",
        "outputId": "b4ca857b-437b-4151-d85a-a62b04a872de",
        "colab": {}
      },
      "cell_type": "code",
      "source": [
        "count=0;\n",
        "n=4;\n",
        "for i in range(2,n+1):\n",
        "#     0,1,2,\n",
        "    print(\"i\",i)\n",
        "    count=count+i*2\n",
        "#     count=0\n",
        "#     count=2\n",
        "#     count=6\n",
        "    print(\"count\",count)\n",
        "print(count)\n",
        "    "
      ],
      "execution_count": 0,
      "outputs": [
        {
          "output_type": "stream",
          "text": [
            "i 2\n",
            "count 4\n",
            "i 3\n",
            "count 10\n",
            "i 4\n",
            "count 18\n",
            "18\n"
          ],
          "name": "stdout"
        }
      ]
    },
    {
      "metadata": {
        "id": "O6I6loR7iNmJ",
        "colab_type": "code",
        "outputId": "476c3e04-44c5-43b5-a880-95863e9446dc",
        "colab": {}
      },
      "cell_type": "code",
      "source": [
        "print(range(5))"
      ],
      "execution_count": 0,
      "outputs": [
        {
          "output_type": "stream",
          "text": [
            "range(0, 5)\n"
          ],
          "name": "stdout"
        }
      ]
    },
    {
      "metadata": {
        "id": "kdU8AAhtiNmL",
        "colab_type": "code",
        "outputId": "02d14c92-e811-4615-9ef7-4b18383aee9b",
        "colab": {}
      },
      "cell_type": "code",
      "source": [
        "i=0\n",
        "i=1\n",
        "i=i*2\n",
        "i"
      ],
      "execution_count": 0,
      "outputs": [
        {
          "output_type": "execute_result",
          "data": {
            "text/plain": [
              "2"
            ]
          },
          "metadata": {
            "tags": []
          },
          "execution_count": 35
        }
      ]
    },
    {
      "metadata": {
        "id": "l0BjZpOYiNmM",
        "colab_type": "code",
        "colab": {}
      },
      "cell_type": "code",
      "source": [
        ""
      ],
      "execution_count": 0,
      "outputs": []
    },
    {
      "metadata": {
        "colab_type": "text",
        "id": "uMVbNz1L_DMD"
      },
      "cell_type": "markdown",
      "source": [
        "# Loop to check whether a number is prime or not\n",
        "\n"
      ]
    },
    {
      "metadata": {
        "colab_type": "code",
        "id": "TaLulCWJ_DME",
        "outputId": "88342b6e-298b-434d-968f-c6aac51468c9",
        "colab": {}
      },
      "cell_type": "code",
      "source": [
        "flag=1\n",
        "n=17\n",
        "for i in range(2,n):\n",
        "#     Range of i is from 2 to n-1 \n",
        "    print(\"value of i\", i)\n",
        "    if n%i==0:\n",
        "#         Checking for the remainder\n",
        "        flag=0\n",
        "        break\n",
        "#     print(\"value of i\", i)\n",
        "\n",
        "if flag==1:\n",
        "    print(\"The number\", n, \"is a prime number\")\n",
        "else:\n",
        "    print(\"The number\", n, \"is not a prime number\")"
      ],
      "execution_count": 0,
      "outputs": [
        {
          "output_type": "stream",
          "text": [
            "value of i 2\n",
            "value of i 3\n",
            "value of i 4\n",
            "value of i 5\n",
            "value of i 6\n",
            "value of i 7\n",
            "value of i 8\n",
            "value of i 9\n",
            "value of i 10\n",
            "value of i 11\n",
            "value of i 12\n",
            "value of i 13\n",
            "value of i 14\n",
            "value of i 15\n",
            "value of i 16\n",
            "The number 17 is a prime number\n"
          ],
          "name": "stdout"
        }
      ]
    },
    {
      "metadata": {
        "colab_type": "text",
        "id": "guawLcXl_DMG"
      },
      "cell_type": "markdown",
      "source": [
        "# Functions"
      ]
    },
    {
      "metadata": {
        "colab_type": "code",
        "id": "bRiVoePg_DMH",
        "outputId": "e894a43b-aa15-415d-ed3f-920455b70f9c",
        "colab": {}
      },
      "cell_type": "code",
      "source": [
        "def prime(n):\n",
        "    flag=1\n",
        "    if n==2:\n",
        "        print(\"The number\", n, \"is a prime number\")\n",
        "#         return flag\n",
        "    for i in range(2,n):\n",
        "        if n%i==0:\n",
        "            flag=0\n",
        "            break\n",
        "    if flag==1:\n",
        "        print(\"The number\", n, \"is a prime number\")\n",
        "    else:\n",
        "        print(\"The number\", n, \"is not a prime number\")\n",
        "\n",
        "print(\"Checking the numbers 2,5,7,8,21,51\" )\n",
        "\n",
        "\n",
        "# prime(99)\n",
        "# Introduction of list\n",
        "list=[2,5,7,8,21,51]\n",
        "for i in list:\n",
        "    print(i)\n",
        "    prime(i)"
      ],
      "execution_count": 0,
      "outputs": [
        {
          "output_type": "stream",
          "text": [
            "Checking the numbers 2,5,7,8,21,51\n",
            "2\n",
            "The number 2 is a prime number\n",
            "The number 2 is a prime number\n",
            "5\n",
            "The number 5 is a prime number\n",
            "7\n",
            "The number 7 is a prime number\n",
            "8\n",
            "The number 8 is not a prime number\n",
            "21\n",
            "The number 21 is not a prime number\n",
            "51\n",
            "The number 51 is not a prime number\n"
          ],
          "name": "stdout"
        }
      ]
    },
    {
      "metadata": {
        "colab_type": "code",
        "id": "8DC78FbS_DMK",
        "colab": {}
      },
      "cell_type": "code",
      "source": [
        "# Reusability is the main intention behind functions and plays a crucial role in python"
      ],
      "execution_count": 0,
      "outputs": []
    },
    {
      "metadata": {
        "colab_type": "code",
        "id": "_7qORCnL_DML",
        "colab": {}
      },
      "cell_type": "code",
      "source": [
        ""
      ],
      "execution_count": 0,
      "outputs": []
    }
  ]
}